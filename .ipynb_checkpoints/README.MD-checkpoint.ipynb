{
 "cells": [
  {
   "cell_type": "markdown",
   "id": "75eb5bb4",
   "metadata": {},
   "source": [
    "### CUSTOMER CHURN CLASSIFICATION PROJECT\n",
    "\n",
    "### BUSINESS UNDERSTANDING\n",
    "Customer attrition is one of the biggest expenditures of any organization. Customer churn otherwise known as customer attrition or customer turnover is the percentage of customers that stopped using your company's product or service within a specified timeframe.\n",
    "\n",
    "For instance, if you began the year with 500 customers but later ended with 480 customers, the percentage of customers that left would be 4%. If we could figure out why a customer leaves and when they leave with reasonable accuracy, it would immensely help the organization to strategize their retention initiatives manifold.\n",
    "\n",
    "### PROJECT EXPECTATION\n",
    "In this project, we aim to find the likelihood of a customer leaving the organization, the key indicators of churn as well as the retention strategies that can be implemented to avert this problem.\n",
    "\n",
    "#### Our analysis or methods comprises the following steps:\n",
    "1) Hypothesis formation and Data Processing - Importing the relevant libraries and modules, Cleaning of Data, Check data types, Encoding Data labels etc.\n",
    "2)Data Evaluation -- Perform bivariate and multivariate analysis, EDA\n",
    "3)Build & Select Model -- Train Model on dataset and select the best performing model.\n",
    "4)Evaluate your chosen Model.\n",
    "5)Model Improvement.\n",
    "6)Future Predictions.\n",
    "7)Key Insights and Conclusion."
   ]
  },
  {
   "cell_type": "code",
   "execution_count": null,
   "id": "78057c94",
   "metadata": {},
   "outputs": [],
   "source": []
  }
 ],
 "metadata": {
  "kernelspec": {
   "display_name": "Python 3 (ipykernel)",
   "language": "python",
   "name": "python3"
  }
 },
 "nbformat": 4,
 "nbformat_minor": 5
}
